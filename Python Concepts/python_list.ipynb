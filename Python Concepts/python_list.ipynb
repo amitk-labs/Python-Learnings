{
 "cells": [
  {
   "cell_type": "markdown",
   "metadata": {},
   "source": [
    "# Python List\n",
    "In this article, we'll learn everything about Python lists; how they are created, slicing of a list, adding or removing elements from them and so on.\n",
    "\n",
    "Python offers a range of compound datatypes often referred to as sequences. List is one of the most frequently used and very versatile datatype used in Python.\n",
    "\n",
    "# How to create a list?\n",
    "In Python programming, a list is created by placing all the items (elements) inside a square bracket [ ], separated by commas.\n",
    "\n",
    "It can have any number of items and they may be of different types (integer, float, string etc.).\n",
    "\n"
   ]
  },
  {
   "cell_type": "code",
   "execution_count": 6,
   "metadata": {},
   "outputs": [],
   "source": [
    "# empty list\n",
    "my_list = []\n",
    "# list of integers\n",
    "my_list = [1, 2, 3]\n",
    "# list with mixed datatypes\n",
    "my_list = [1, \"Hello\", 3.4]\n"
   ]
  },
  {
   "cell_type": "markdown",
   "metadata": {},
   "source": [
    "Also, a list can even have another list as an item. This is called nested list.\n",
    "\n",
    "# How to access elements from a list?\n",
    "There are various ways in which we can access the elements of a list.\n",
    "\n",
    "# List Index\n",
    "We can use the index operator [] to access an item in a list. Index starts from 0. So, a list having 5 elements will have index from 0 to 4.\n",
    "\n",
    "Trying to access an element other that this will raise an IndexError. The index must be an integer. We can't use float or other types, this will result into TypeError.\n",
    "\n",
    "Nested list are accessed using nested indexing.\n",
    "\n"
   ]
  },
  {
   "cell_type": "code",
   "execution_count": 7,
   "metadata": {},
   "outputs": [
    {
     "name": "stdout",
     "output_type": "stream",
     "text": [
      "p\n",
      "o\n",
      "e\n",
      "a\n",
      "5\n"
     ]
    }
   ],
   "source": [
    "my_list = ['p','r','o','b','e']\n",
    "# Output: p\n",
    "print(my_list[0])\n",
    "# Output: o\n",
    "print(my_list[2])\n",
    "# Output: e\n",
    "print(my_list[4])\n",
    "# Error! Only integer can be used for indexing\n",
    "# my_list[4.0]\n",
    "# Nested List\n",
    "n_list = [\"Happy\", [2,0,1,5]]\n",
    "# Nested indexing\n",
    "# Output: a\n",
    "print(n_list[0][1])    \n",
    "# Output: 5\n",
    "print(n_list[1][3])"
   ]
  },
  {
   "cell_type": "markdown",
   "metadata": {},
   "source": [
    "# Negative indexing\n",
    "Python allows negative indexing for its sequences. The index of -1 refers to the last item, -2 to the second last item and so on.\n",
    "\n"
   ]
  },
  {
   "cell_type": "code",
   "execution_count": 8,
   "metadata": {},
   "outputs": [
    {
     "name": "stdout",
     "output_type": "stream",
     "text": [
      "e\n",
      "p\n"
     ]
    }
   ],
   "source": [
    "my_list = ['p','r','o','b','e']\n",
    "# Output: e\n",
    "print(my_list[-1])\n",
    "# Output: p\n",
    "print(my_list[-5])"
   ]
  },
  {
   "cell_type": "code",
   "execution_count": 9,
   "metadata": {},
   "outputs": [
    {
     "data": {
      "text/html": [
       "<img src = \"2.png\">\n"
      ],
      "text/plain": [
       "<IPython.core.display.HTML object>"
      ]
     },
     "metadata": {},
     "output_type": "display_data"
    }
   ],
   "source": [
    "%%html\n",
    "<img src = \"2.png\">"
   ]
  },
  {
   "cell_type": "markdown",
   "metadata": {},
   "source": [
    "# How to slice lists in Python?\n",
    "We can access a range of items in a list by using the slicing operator (colon)."
   ]
  },
  {
   "cell_type": "code",
   "execution_count": 10,
   "metadata": {},
   "outputs": [
    {
     "name": "stdout",
     "output_type": "stream",
     "text": [
      "['o', 'g', 'r']\n",
      "['p', 'r']\n",
      "['a', 'm']\n",
      "['p', 'r', 'o', 'g', 'r', 'a', 'm']\n"
     ]
    }
   ],
   "source": [
    "my_list = ['p','r','o','g','r','a','m']\n",
    "# elements 3rd to 5th\n",
    "print(my_list[2:5])\n",
    "# elements beginning to 4th\n",
    "print(my_list[:-5])\n",
    "# elements 6th to end\n",
    "print(my_list[5:])\n",
    "# elements beginning to end\n",
    "print(my_list[:])"
   ]
  },
  {
   "cell_type": "raw",
   "metadata": {},
   "source": [
    "Slicing can be best visualized by considering the index to be between the elements as shown below. So if we want to access a range, we need two indices that will slice that portion from the list.\n",
    "\n"
   ]
  },
  {
   "cell_type": "code",
   "execution_count": 11,
   "metadata": {},
   "outputs": [
    {
     "data": {
      "text/html": [
       "<img src = \"3.jpg\">\n"
      ],
      "text/plain": [
       "<IPython.core.display.HTML object>"
      ]
     },
     "metadata": {},
     "output_type": "display_data"
    }
   ],
   "source": [
    "%%html\n",
    "<img src = \"3.jpg\">"
   ]
  },
  {
   "cell_type": "markdown",
   "metadata": {},
   "source": [
    "# How to change or add elements to a list?\n",
    "List are mutable, meaning, their elements can be changed unlike string or tuple.\n",
    "\n",
    "We can use assignment operator (=) to change an item or a range of items"
   ]
  },
  {
   "cell_type": "code",
   "execution_count": 17,
   "metadata": {},
   "outputs": [
    {
     "name": "stdout",
     "output_type": "stream",
     "text": [
      "[1, 4, 6, 8]\n",
      "[1, 3, 5, 7]\n"
     ]
    }
   ],
   "source": [
    "# mistake values\n",
    "odd = [2, 4, 6, 8]\n",
    "# change the 1st item    \n",
    "odd[0] = 1            \n",
    "# Output: [1, 4, 6, 8]\n",
    "print(odd)\n",
    "# change 2nd to 4th items\n",
    "odd[1:4] = [3, 5, 7]  \n",
    "# Output: [1, 3, 5, 7]\n",
    "print(odd)                "
   ]
  },
  {
   "cell_type": "markdown",
   "metadata": {},
   "source": [
    "We can add one item to a list using append() method or add several items using extend() method."
   ]
  },
  {
   "cell_type": "code",
   "execution_count": 20,
   "metadata": {},
   "outputs": [
    {
     "name": "stdout",
     "output_type": "stream",
     "text": [
      "[1, 5, 3, 7]\n",
      "[1, 5, 3, 7, 9, 11, 13]\n"
     ]
    }
   ],
   "source": [
    "odd = [1, 5, 3]\n",
    "odd.append(7)\n",
    "# Output: [1, 3, 5, 7]\n",
    "print(odd)\n",
    "odd.extend([9, 11, 13])\n",
    "# Output: [1, 3, 5, 7, 9, 11, 13]\n",
    "print(odd)"
   ]
  },
  {
   "cell_type": "markdown",
   "metadata": {},
   "source": [
    "We can also use + operator to combine two lists. This is also called concatenation.\n",
    "\n",
    "The * operator repeats a list for the given number of times."
   ]
  },
  {
   "cell_type": "code",
   "execution_count": 19,
   "metadata": {},
   "outputs": [
    {
     "name": "stdout",
     "output_type": "stream",
     "text": [
      "[1, 5, 3, 9, 7, 5]\n",
      "['re', 're', 're']\n"
     ]
    }
   ],
   "source": [
    "odd = [1, 5, 3]\n",
    "# Output: [1, 3, 5, 9, 7, 5]\n",
    "print(odd + [9, 7, 5])\n",
    "#Output: [\"re\", \"re\", \"re\"]\n",
    "print([\"re\"] * 3)"
   ]
  },
  {
   "cell_type": "markdown",
   "metadata": {},
   "source": [
    "Furthermore, we can insert one item at a desired location by using the method insert() or insert multiple items by squeezing it into an empty slice of a list."
   ]
  },
  {
   "cell_type": "code",
   "execution_count": 21,
   "metadata": {},
   "outputs": [
    {
     "name": "stdout",
     "output_type": "stream",
     "text": [
      "[1, 3, 9]\n",
      "[1, 3, 5, 7, 9]\n"
     ]
    }
   ],
   "source": [
    "odd = [1, 9]\n",
    "odd.insert(1,3)\n",
    "# Output: [1, 3, 9] \n",
    "print(odd)\n",
    "odd[2:2] = [5, 7]\n",
    "# Output: [1, 3, 5, 7, 9]\n",
    "print(odd)"
   ]
  },
  {
   "cell_type": "markdown",
   "metadata": {},
   "source": [
    "# How to delete or remove elements from a list?\n",
    "We can delete one or more items from a list using the keyword del. It can even delete the list entirely."
   ]
  },
  {
   "cell_type": "code",
   "execution_count": 22,
   "metadata": {},
   "outputs": [
    {
     "name": "stdout",
     "output_type": "stream",
     "text": [
      "['p', 'r', 'b', 'l', 'e', 'm']\n",
      "['p', 'm']\n"
     ]
    },
    {
     "ename": "NameError",
     "evalue": "name 'my_list' is not defined",
     "output_type": "error",
     "traceback": [
      "\u001b[1;31m---------------------------------------------------------------------------\u001b[0m",
      "\u001b[1;31mNameError\u001b[0m                                 Traceback (most recent call last)",
      "\u001b[1;32m<ipython-input-22-75a696f1c3fb>\u001b[0m in \u001b[0;36m<module>\u001b[1;34m\u001b[0m\n\u001b[0;32m     11\u001b[0m \u001b[1;32mdel\u001b[0m \u001b[0mmy_list\u001b[0m\u001b[1;33m\u001b[0m\u001b[1;33m\u001b[0m\u001b[0m\n\u001b[0;32m     12\u001b[0m \u001b[1;31m# Error: List not defined\u001b[0m\u001b[1;33m\u001b[0m\u001b[1;33m\u001b[0m\u001b[1;33m\u001b[0m\u001b[0m\n\u001b[1;32m---> 13\u001b[1;33m \u001b[0mprint\u001b[0m\u001b[1;33m(\u001b[0m\u001b[0mmy_list\u001b[0m\u001b[1;33m)\u001b[0m\u001b[1;33m\u001b[0m\u001b[1;33m\u001b[0m\u001b[0m\n\u001b[0m",
      "\u001b[1;31mNameError\u001b[0m: name 'my_list' is not defined"
     ]
    }
   ],
   "source": [
    "my_list = ['p','r','o','b','l','e','m']\n",
    "# delete one item\n",
    "del my_list[2]\n",
    "# Output: ['p', 'r', 'b', 'l', 'e', 'm']     \n",
    "print(my_list)\n",
    "# delete multiple items\n",
    "del my_list[1:5]  \n",
    "# Output: ['p', 'm']\n",
    "print(my_list)\n",
    "# delete entire list\n",
    "del my_list       \n",
    "# Error: List not defined\n",
    "print(my_list)"
   ]
  },
  {
   "cell_type": "markdown",
   "metadata": {},
   "source": [
    "We can use remove() method to remove the given item or pop() method to remove an item at the given index.\n",
    "\n",
    "The pop() method removes and returns the last item if index is not provided. This helps us implement lists as stacks (first in, last out data structure).\n",
    "\n",
    "We can also use the clear() method to empty a list.\n",
    "\n"
   ]
  },
  {
   "cell_type": "code",
   "execution_count": 23,
   "metadata": {},
   "outputs": [
    {
     "name": "stdout",
     "output_type": "stream",
     "text": [
      "['r', 'o', 'b', 'l', 'e', 'm']\n",
      "o\n",
      "['r', 'b', 'l', 'e', 'm']\n",
      "m\n",
      "['r', 'b', 'l', 'e']\n",
      "[]\n"
     ]
    }
   ],
   "source": [
    "my_list = ['p','r','o','b','l','e','m']\n",
    "my_list.remove('p')\n",
    "# Output: ['r', 'o', 'b', 'l', 'e', 'm']\n",
    "print(my_list)\n",
    "# Output: 'o'\n",
    "print(my_list.pop(1))\n",
    "# Output: ['r', 'b', 'l', 'e', 'm']\n",
    "print(my_list)\n",
    "# Output: 'm'\n",
    "print(my_list.pop())\n",
    "# Output: ['r', 'b', 'l', 'e']\n",
    "print(my_list)\n",
    "my_list.clear()\n",
    "# Output: []\n",
    "print(my_list)"
   ]
  },
  {
   "cell_type": "raw",
   "metadata": {},
   "source": [
    "# Python List Methods\n",
    "Methods that are available with list object in Python programming are tabulated below.\n",
    "\n",
    "They are accessed as list.method(). Some of the methods have already been used above.\n",
    "\n",
    "Python List Methods\n",
    "append() - Add an element to the end of the list\n",
    "extend() - Add all elements of a list to the another list\n",
    "insert() - Insert an item at the defined index\n",
    "remove() - Removes an item from the list\n",
    "pop() - Removes and returns an element at the given index\n",
    "clear() - Removes all items from the list\n",
    "index() - Returns the index of the first matched item\n",
    "count() - Returns the count of number of items passed as an argument\n",
    "sort() - Sort items in a list in ascending order\n",
    "reverse() - Reverse the order of items in the list\n",
    "copy() - Returns a shallow copy of the list\n",
    "Some examples of Python list methods:"
   ]
  },
  {
   "cell_type": "code",
   "execution_count": 25,
   "metadata": {},
   "outputs": [
    {
     "name": "stdout",
     "output_type": "stream",
     "text": [
      "1\n",
      "2\n",
      "[0, 1, 3, 4, 6, 8, 8]\n",
      "[8, 8, 6, 4, 3, 1, 0]\n"
     ]
    }
   ],
   "source": [
    "my_list = [3, 8, 1, 6, 0, 8, 4]\n",
    "# Output: 1\n",
    "print(my_list.index(8))\n",
    "# Output: 2\n",
    "print(my_list.count(8))\n",
    "my_list.sort()\n",
    "# Output: [0, 1, 3, 4, 6, 8, 8]\n",
    "print(my_list)\n",
    "my_list.reverse()\n",
    "# Output: [8, 8, 6, 4, 3, 1, 0]\n",
    "print(my_list)\n"
   ]
  },
  {
   "cell_type": "markdown",
   "metadata": {},
   "source": [
    "# List Comprehension: Elegant way to create new List\n",
    "List comprehension is an elegant and concise way to create a new list from an existing list in Python.\n",
    "\n",
    "List comprehension consists of an expression followed by for statement inside square brackets.\n",
    "\n",
    "Here is an example to make a list with each item being increasing power of 2.\n",
    "\n"
   ]
  },
  {
   "cell_type": "code",
   "execution_count": 26,
   "metadata": {},
   "outputs": [
    {
     "name": "stdout",
     "output_type": "stream",
     "text": [
      "[1, 2, 4, 8, 16, 32, 64, 128, 256, 512]\n"
     ]
    }
   ],
   "source": [
    "pow2 = [2 ** x for x in range(10)]\n",
    "# Output: [1, 2, 4, 8, 16, 32, 64, 128, 256, 512]\n",
    "print(pow2)"
   ]
  },
  {
   "cell_type": "code",
   "execution_count": 27,
   "metadata": {},
   "outputs": [
    {
     "data": {
      "text/plain": [
       "[64, 128, 256, 512]"
      ]
     },
     "execution_count": 27,
     "metadata": {},
     "output_type": "execute_result"
    }
   ],
   "source": [
    "# code is equivalent to\n",
    "\n",
    "pow2 = []\n",
    "for x in range(10):\n",
    "   pow2.append(2 ** x)\n",
    "#A list comprehension can optionally contain more for or if statements. An optional if statement can filter out items for the new list. Here are some examples.\n",
    "\n",
    "pow2 = [2 ** x for x in range(10) if x > 5]\n",
    "pow2\n"
   ]
  },
  {
   "cell_type": "code",
   "execution_count": 29,
   "metadata": {},
   "outputs": [
    {
     "data": {
      "text/plain": [
       "[1, 3, 5, 7, 9, 11, 13, 15, 17, 19]"
      ]
     },
     "execution_count": 29,
     "metadata": {},
     "output_type": "execute_result"
    }
   ],
   "source": [
    "odd = [x for x in range(20) if x % 2 == 1]\n",
    "odd\n"
   ]
  },
  {
   "cell_type": "code",
   "execution_count": null,
   "metadata": {},
   "outputs": [],
   "source": [
    "[x+y for x in ['Python ','C '] for y in ['Language','Programming']]\n"
   ]
  },
  {
   "cell_type": "markdown",
   "metadata": {},
   "source": [
    "# Other List Operations in Python\n",
    "# List Membership Test\n",
    "We can test if an item exists in a list or not, using the keyword in."
   ]
  },
  {
   "cell_type": "code",
   "execution_count": 30,
   "metadata": {},
   "outputs": [
    {
     "name": "stdout",
     "output_type": "stream",
     "text": [
      "True\n",
      "False\n",
      "True\n"
     ]
    }
   ],
   "source": [
    "my_list = ['p','r','o','b','l','e','m']\n",
    "# Output: True\n",
    "print('p' in my_list)\n",
    "# Output: False\n",
    "print('a' in my_list)\n",
    "# Output: True\n",
    "print('c' not in my_list)"
   ]
  },
  {
   "cell_type": "markdown",
   "metadata": {},
   "source": [
    "# iterating Through a List\n",
    "Using a for loop we can iterate though each item in a list."
   ]
  },
  {
   "cell_type": "code",
   "execution_count": 31,
   "metadata": {},
   "outputs": [
    {
     "name": "stdout",
     "output_type": "stream",
     "text": [
      "I like apple\n",
      "I like banana\n",
      "I like mango\n"
     ]
    }
   ],
   "source": [
    "for fruit in ['apple','banana','mango']:\n",
    "    print(\"I like\",fruit)"
   ]
  },
  {
   "cell_type": "code",
   "execution_count": null,
   "metadata": {},
   "outputs": [],
   "source": []
  }
 ],
 "metadata": {
  "kernelspec": {
   "display_name": "Python 3",
   "language": "python",
   "name": "python3"
  },
  "language_info": {
   "codemirror_mode": {
    "name": "ipython",
    "version": 3
   },
   "file_extension": ".py",
   "mimetype": "text/x-python",
   "name": "python",
   "nbconvert_exporter": "python",
   "pygments_lexer": "ipython3",
   "version": "3.7.4"
  }
 },
 "nbformat": 4,
 "nbformat_minor": 4
}
