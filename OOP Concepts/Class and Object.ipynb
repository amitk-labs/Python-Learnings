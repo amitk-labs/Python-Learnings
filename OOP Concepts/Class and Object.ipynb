{
 "cells": [
  {
   "cell_type": "markdown",
   "metadata": {},
   "source": [
    "## Class and Object in Python"
   ]
  },
  {
   "attachments": {},
   "cell_type": "markdown",
   "metadata": {},
   "source": [
    "### Terminologies used - \n",
    "                    1. Consider an architecture of a building on a paper as a Class.\n",
    "                    2. COnsider an actual building as an Object.\n",
    "### Class -\n",
    "            Class could be thought as a blue print of an object. For instance, engineers creates an architecture of a building on a paper before start constructing the actual building.\n",
    "<img src=\"http://ducecc.com/wp-content/uploads/2016/10/Blueprint-of-Home.jpg\" width =\"500\" height=450 > \n",
    "\n",
    "**Basically, you will create a class to indicate any real word object into programming world.**\n",
    "            "
   ]
  },
  {
   "cell_type": "markdown",
   "metadata": {},
   "source": [
    "### Object -\n",
    "            Object could be thought as an actual implementation of the blueprint. For instance, after creating the blueprint of a building, engineering start constructing an actual building by following the blueprint.\n",
    "<img src=\"https://d.ibtimes.co.uk/en/full/1541765/autumn-statenent-2016-house-building.jpg?w=400\" width =\"500\" height=450>\n",
    "\n",
    "**Object is an instace of a class. <br>\n",
    "Object is an entity which has a well-defined structure & behavior.**"
   ]
  },
  {
   "cell_type": "markdown",
   "metadata": {},
   "source": [
    "### Real World Example\n",
    "\n",
    "Let us consider you want to bring a real world object (Harmonium) in programming world.\n",
    "<img src=\"https://lh3.googleusercontent.com/proxy/mfOm4HJhkQexlBfWjU--0G-3k67bgFc8qBjqHZP4_sFfkFrrp4P4c9evREF5-N2E3LcIxUOfnxR15ONoX76mUwmmTaQFzkqKME_3tJj_FLdeFA3O02nKmRJw1g6wOrX2zs51YIipTegXLvoGWmC5R9lg=s0-d\" width =\"500\" height=450 >\n",
    "**So, How will we do this?**<br>\n",
    "Yeah, you got it right! We will be creating a class of Harmonium.\n",
    "\n",
    "But, as we could see Harmonium is having several characteristics and behavior.<br>\n",
    "\n",
    "**How we could implement this in our class Harmonium?** <br>\n",
    "-> We could create variables for specifying the characteristics and functions for the behavior of the Harmonium. \n"
   ]
  },
  {
   "cell_type": "markdown",
   "metadata": {},
   "source": [
    "Let's create our class Harmonium,"
   ]
  },
  {
   "cell_type": "code",
   "execution_count": 6,
   "metadata": {},
   "outputs": [],
   "source": [
    "class Harmonium:\n",
    "    def __init__(self): # constructor\n",
    "        pass\n",
    "    \n",
    "    color=\"\" \n",
    "    total_keys=0\n",
    "    bellows=\"\"\n",
    "    def Sound(self):\n",
    "        print(\"Saa re ga ma pa\")"
   ]
  },
  {
   "cell_type": "markdown",
   "metadata": {},
   "source": [
    "Now let's an object of our class Harmonium,"
   ]
  },
  {
   "cell_type": "code",
   "execution_count": 9,
   "metadata": {},
   "outputs": [],
   "source": [
    "harmonium_object=Harmonium() #memory is alloted to the object of a class Harmonium. \n",
    "harmonium_object.Sound()"
   ]
  },
  {
   "cell_type": "markdown",
   "metadata": {},
   "source": [
    "### A few more points on Object\n",
    "\n",
    "#### Object has characteristics as:\n",
    "    1. State\n",
    "    2. Behavior\n",
    "    3. Identity\n",
    "    4. Responsibility\n",
    "    \n",
    "**State -**<br>\n",
    "\n",
    "          * State of an object includes the current values of all its attributes.\n",
    "          * An attribute can be static (values will not change) or dynamic (values will be change)\n",
    "\n",
    "**Behavior -**<br>\n",
    "          \n",
    "          * Behavior is how an object acts & reacts, in terms of its state change and message passing.\n",
    "          * Change in state of an object reflects in its behavior.\n",
    "\n",
    "**Identity -**<br>\n",
    "          \n",
    "          * Every object has its own identity.\n",
    "          * Property of an object which distinguishes it from all other objects is an Identity.\n",
    "          * Single or group of attributes can be identity of an object.\n",
    "\n",
    "**Responsibility -**<br>\n",
    "            \n",
    "          * Responsibility of an object is the role it serves within the system.\n",
    "            Example - responsibility of an employee is to carry out the work given & get the salary \n",
    "\n",
    "_______________________________________________________________________________________________________________________________\n"
   ]
  },
  {
   "attachments": {},
   "cell_type": "markdown",
   "metadata": {},
   "source": [
    "**Follow me -**<br>\n",
    "Github: https://github.com/amitk-labs <br>\n",
    "LinkedIn: www.linkedin.com/in/amitkhachane\n"
   ]
  },
  {
   "cell_type": "code",
   "execution_count": null,
   "metadata": {},
   "outputs": [],
   "source": []
  }
 ],
 "metadata": {
  "kernelspec": {
   "display_name": "Python 3",
   "language": "python",
   "name": "python3"
  },
  "language_info": {
   "codemirror_mode": {
    "name": "ipython",
    "version": 3
   },
   "file_extension": ".py",
   "mimetype": "text/x-python",
   "name": "python",
   "nbconvert_exporter": "python",
   "pygments_lexer": "ipython3",
   "version": "3.7.6"
  }
 },
 "nbformat": 4,
 "nbformat_minor": 4
}
